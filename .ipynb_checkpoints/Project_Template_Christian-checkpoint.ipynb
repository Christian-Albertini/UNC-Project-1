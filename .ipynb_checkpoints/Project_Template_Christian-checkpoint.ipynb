{
 "cells": [
  {
   "cell_type": "markdown",
   "id": "6b0b7bd5-1e69-43b7-9abc-eddd007ba7d6",
   "metadata": {},
   "source": [
    "What are we watching tonight Project Template"
   ]
  },
  {
   "cell_type": "code",
   "execution_count": 7,
   "id": "e331c4f4-5eab-43fe-9046-c597424a2c54",
   "metadata": {},
   "outputs": [],
   "source": [
    "# Imports\n",
    "import matplotlib.pyplot as plt\n",
    "import pandas as pd\n",
    "import numpy as np\n",
    "import requests\n",
    "from scipy.stats import linregress\n",
    "\n"
   ]
  },
  {
   "cell_type": "code",
   "execution_count": 57,
   "id": "a092c54d-ee10-44d3-bc5a-2a263d664d5f",
   "metadata": {},
   "outputs": [
    {
     "data": {
      "text/html": [
       "<div>\n",
       "<style scoped>\n",
       "    .dataframe tbody tr th:only-of-type {\n",
       "        vertical-align: middle;\n",
       "    }\n",
       "\n",
       "    .dataframe tbody tr th {\n",
       "        vertical-align: top;\n",
       "    }\n",
       "\n",
       "    .dataframe thead th {\n",
       "        text-align: right;\n",
       "    }\n",
       "</style>\n",
       "<table border=\"1\" class=\"dataframe\">\n",
       "  <thead>\n",
       "    <tr style=\"text-align: right;\">\n",
       "      <th></th>\n",
       "      <th>ID</th>\n",
       "      <th>Title</th>\n",
       "      <th>Year</th>\n",
       "      <th>Age</th>\n",
       "      <th>IMDb</th>\n",
       "      <th>Rotten Tomatoes</th>\n",
       "      <th>Netflix</th>\n",
       "      <th>Hulu</th>\n",
       "      <th>Prime Video</th>\n",
       "      <th>Disney+</th>\n",
       "    </tr>\n",
       "  </thead>\n",
       "  <tbody>\n",
       "    <tr>\n",
       "      <th>0</th>\n",
       "      <td>1</td>\n",
       "      <td>Breaking Bad</td>\n",
       "      <td>2008</td>\n",
       "      <td>18+</td>\n",
       "      <td>9.4/10</td>\n",
       "      <td>100/100</td>\n",
       "      <td>1</td>\n",
       "      <td>0</td>\n",
       "      <td>0</td>\n",
       "      <td>0</td>\n",
       "    </tr>\n",
       "    <tr>\n",
       "      <th>1</th>\n",
       "      <td>2</td>\n",
       "      <td>Stranger Things</td>\n",
       "      <td>2016</td>\n",
       "      <td>16+</td>\n",
       "      <td>8.7/10</td>\n",
       "      <td>96/100</td>\n",
       "      <td>1</td>\n",
       "      <td>0</td>\n",
       "      <td>0</td>\n",
       "      <td>0</td>\n",
       "    </tr>\n",
       "    <tr>\n",
       "      <th>2</th>\n",
       "      <td>3</td>\n",
       "      <td>Attack on Titan</td>\n",
       "      <td>2013</td>\n",
       "      <td>18+</td>\n",
       "      <td>9.0/10</td>\n",
       "      <td>95/100</td>\n",
       "      <td>1</td>\n",
       "      <td>1</td>\n",
       "      <td>0</td>\n",
       "      <td>0</td>\n",
       "    </tr>\n",
       "    <tr>\n",
       "      <th>3</th>\n",
       "      <td>4</td>\n",
       "      <td>Better Call Saul</td>\n",
       "      <td>2015</td>\n",
       "      <td>18+</td>\n",
       "      <td>8.8/10</td>\n",
       "      <td>94/100</td>\n",
       "      <td>1</td>\n",
       "      <td>0</td>\n",
       "      <td>0</td>\n",
       "      <td>0</td>\n",
       "    </tr>\n",
       "    <tr>\n",
       "      <th>4</th>\n",
       "      <td>5</td>\n",
       "      <td>Dark</td>\n",
       "      <td>2017</td>\n",
       "      <td>16+</td>\n",
       "      <td>8.8/10</td>\n",
       "      <td>93/100</td>\n",
       "      <td>1</td>\n",
       "      <td>0</td>\n",
       "      <td>0</td>\n",
       "      <td>0</td>\n",
       "    </tr>\n",
       "  </tbody>\n",
       "</table>\n",
       "</div>"
      ],
      "text/plain": [
       "   ID             Title  Year  Age    IMDb Rotten Tomatoes  Netflix  Hulu  \\\n",
       "0   1      Breaking Bad  2008  18+  9.4/10         100/100        1     0   \n",
       "1   2   Stranger Things  2016  16+  8.7/10          96/100        1     0   \n",
       "2   3   Attack on Titan  2013  18+  9.0/10          95/100        1     1   \n",
       "3   4  Better Call Saul  2015  18+  8.8/10          94/100        1     0   \n",
       "4   5              Dark  2017  16+  8.8/10          93/100        1     0   \n",
       "\n",
       "   Prime Video  Disney+  \n",
       "0            0        0  \n",
       "1            0        0  \n",
       "2            0        0  \n",
       "3            0        0  \n",
       "4            0        0  "
      ]
     },
     "execution_count": 57,
     "metadata": {},
     "output_type": "execute_result"
    }
   ],
   "source": [
    "# Read in CSV file\n",
    "data_df=pd.read_csv(\"tv_shows.csv\")\n",
    "\n",
    "del data_df['Unnamed: 0']\n",
    "del data_df['Type']\n",
    "data_df.head()"
   ]
  },
  {
   "cell_type": "code",
   "execution_count": 18,
   "id": "c0d03b02-8f66-4bc3-8315-8a9dc33db9ae",
   "metadata": {},
   "outputs": [
    {
     "data": {
      "text/html": [
       "<div>\n",
       "<style scoped>\n",
       "    .dataframe tbody tr th:only-of-type {\n",
       "        vertical-align: middle;\n",
       "    }\n",
       "\n",
       "    .dataframe tbody tr th {\n",
       "        vertical-align: top;\n",
       "    }\n",
       "\n",
       "    .dataframe thead th {\n",
       "        text-align: right;\n",
       "    }\n",
       "</style>\n",
       "<table border=\"1\" class=\"dataframe\">\n",
       "  <thead>\n",
       "    <tr style=\"text-align: right;\">\n",
       "      <th></th>\n",
       "      <th>ID</th>\n",
       "      <th>Title</th>\n",
       "      <th>Year</th>\n",
       "      <th>Age</th>\n",
       "      <th>IMDb</th>\n",
       "      <th>Rotten Tomatoes</th>\n",
       "      <th>Netflix</th>\n",
       "      <th>Hulu</th>\n",
       "      <th>Prime Video</th>\n",
       "      <th>Disney+</th>\n",
       "    </tr>\n",
       "  </thead>\n",
       "  <tbody>\n",
       "    <tr>\n",
       "      <th>0</th>\n",
       "      <td>1</td>\n",
       "      <td>Breaking Bad</td>\n",
       "      <td>2008</td>\n",
       "      <td>18+</td>\n",
       "      <td>9.4/10</td>\n",
       "      <td>100/100</td>\n",
       "      <td>1</td>\n",
       "      <td>0</td>\n",
       "      <td>0</td>\n",
       "      <td>0</td>\n",
       "    </tr>\n",
       "    <tr>\n",
       "      <th>1</th>\n",
       "      <td>2</td>\n",
       "      <td>Stranger Things</td>\n",
       "      <td>2016</td>\n",
       "      <td>16+</td>\n",
       "      <td>8.7/10</td>\n",
       "      <td>96/100</td>\n",
       "      <td>1</td>\n",
       "      <td>0</td>\n",
       "      <td>0</td>\n",
       "      <td>0</td>\n",
       "    </tr>\n",
       "    <tr>\n",
       "      <th>2</th>\n",
       "      <td>3</td>\n",
       "      <td>Attack on Titan</td>\n",
       "      <td>2013</td>\n",
       "      <td>18+</td>\n",
       "      <td>9.0/10</td>\n",
       "      <td>95/100</td>\n",
       "      <td>1</td>\n",
       "      <td>1</td>\n",
       "      <td>0</td>\n",
       "      <td>0</td>\n",
       "    </tr>\n",
       "    <tr>\n",
       "      <th>3</th>\n",
       "      <td>4</td>\n",
       "      <td>Better Call Saul</td>\n",
       "      <td>2015</td>\n",
       "      <td>18+</td>\n",
       "      <td>8.8/10</td>\n",
       "      <td>94/100</td>\n",
       "      <td>1</td>\n",
       "      <td>0</td>\n",
       "      <td>0</td>\n",
       "      <td>0</td>\n",
       "    </tr>\n",
       "    <tr>\n",
       "      <th>4</th>\n",
       "      <td>5</td>\n",
       "      <td>Dark</td>\n",
       "      <td>2017</td>\n",
       "      <td>16+</td>\n",
       "      <td>8.8/10</td>\n",
       "      <td>93/100</td>\n",
       "      <td>1</td>\n",
       "      <td>0</td>\n",
       "      <td>0</td>\n",
       "      <td>0</td>\n",
       "    </tr>\n",
       "  </tbody>\n",
       "</table>\n",
       "</div>"
      ],
      "text/plain": [
       "   ID             Title  Year  Age    IMDb Rotten Tomatoes  Netflix  Hulu  \\\n",
       "0   1      Breaking Bad  2008  18+  9.4/10         100/100        1     0   \n",
       "1   2   Stranger Things  2016  16+  8.7/10          96/100        1     0   \n",
       "2   3   Attack on Titan  2013  18+  9.0/10          95/100        1     1   \n",
       "3   4  Better Call Saul  2015  18+  8.8/10          94/100        1     0   \n",
       "4   5              Dark  2017  16+  8.8/10          93/100        1     0   \n",
       "\n",
       "   Prime Video  Disney+  \n",
       "0            0        0  \n",
       "1            0        0  \n",
       "2            0        0  \n",
       "3            0        0  \n",
       "4            0        0  "
      ]
     },
     "execution_count": 18,
     "metadata": {},
     "output_type": "execute_result"
    }
   ],
   "source": [
    "# Clean dataframe\n",
    "clean_df=data_df.dropna()\n",
    "clean_df.head()"
   ]
  },
  {
   "cell_type": "code",
   "execution_count": 32,
   "id": "45de858c-8d3a-4024-9467-bc55a42191ac",
   "metadata": {},
   "outputs": [
    {
     "data": {
      "text/plain": [
       "{'Netflix': 465, 'Hulu': 447, 'Prime Video': 377, 'Disney+': 235}"
      ]
     },
     "execution_count": 32,
     "metadata": {},
     "output_type": "execute_result"
    }
   ],
   "source": [
    "show_count={\"Netflix\":0, \"Hulu\":0, \"Prime Video\":0, \"Disney+\":0}\n",
    "total_shows={\"Netflix\":0, \"Hulu\":0, \"Prime Video\":0, \"Disney+\":0}\n",
    "# Loop through DataFrame\n",
    "for index, row in clean_df.iterrows():\n",
    "    if clean_df.loc[index, 'Netflix']==1:\n",
    "            total_shows[\"Netflix\"]+=1\n",
    "    if clean_df.loc[index, 'Hulu']==1:\n",
    "            total_shows[\"Hulu\"]+=1\n",
    "    if clean_df.loc[index, 'Prime Video']==1:\n",
    "            total_shows[\"Prime Video\"]+=1\n",
    "    if clean_df.loc[index, 'Disney+']==1:\n",
    "            total_shows[\"Disney+\"]+=1\n",
    "    if clean_df.loc[index, 'Age']==\"all\" or clean_df.loc[index, 'Age']==\"7+\":\n",
    "        if clean_df.loc[index, 'Netflix']==1:\n",
    "            show_count[\"Netflix\"]+=1\n",
    "        if clean_df.loc[index, 'Hulu']==1:\n",
    "            show_count[\"Hulu\"]+=1\n",
    "        if clean_df.loc[index, 'Prime Video']==1:\n",
    "            show_count[\"Prime Video\"]+=1\n",
    "        if clean_df.loc[index, 'Disney+']==1:\n",
    "            show_count[\"Disney+\"]+=1\n",
    "\n",
    "total_shows\n",
    "show_count"
   ]
  },
  {
   "cell_type": "code",
   "execution_count": 58,
   "id": "e6022660-6ddc-462f-a10c-809f22ad29f2",
   "metadata": {},
   "outputs": [
    {
     "data": {
      "text/plain": [
       "{'Netflix': 34.99, 'Hulu': 36.88, 'Prime Video': 50.27, 'Disney+': 91.44}"
      ]
     },
     "execution_count": 58,
     "metadata": {},
     "output_type": "execute_result"
    }
   ],
   "source": [
    "# Get percent of shows that are family friendly for each streaming service\n",
    "percent_family={\"Netflix\":0.00, \"Hulu\":0.00, \"Prime Video\":0.00, \"Disney+\":0.00}\n",
    "percent_family[\"Netflix\"]=round((show_count[\"Netflix\"]/total_shows[\"Netflix\"])*100,2)\n",
    "percent_family[\"Hulu\"]=round((show_count[\"Hulu\"]/total_shows[\"Hulu\"])*100,2)\n",
    "percent_family[\"Prime Video\"]=round((show_count[\"Prime Video\"]/total_shows[\"Prime Video\"])*100,2)\n",
    "percent_family[\"Disney+\"]=round((show_count[\"Disney+\"]/total_shows[\"Disney+\"])*100,2)\n",
    "percent_family"
   ]
  },
  {
   "cell_type": "code",
   "execution_count": 88,
   "id": "c877d1bd-b855-4a28-a45e-70460152a69c",
   "metadata": {},
   "outputs": [
    {
     "data": {
      "image/png": "[encoded data removed]",
      "text/plain": [
       "<Figure size 640x480 with 1 Axes>"
      ]
     },
     "metadata": {},
     "output_type": "display_data"
    }
   ],
   "source": [
    "y_axis=[percent_family[\"Netflix\"], percent_family['Hulu'], percent_family['Prime Video'], percent_family['Disney+']]\n",
    "x_axis=np.arange(len(percent_family.keys()))\n",
    "fig, ax=plt.subplots()\n",
    "bar_chart=ax.bar(percent_family.keys(), y_axis, color=['r', 'g', 'b', 'purple'], alpha=.75)\n",
    "ax.bar_label(bar_chart, label_type='center')\n",
    "ax.set_title(\"Streaming Services by % of Catalogue that is Family Friendly\")\n",
    "ax.set_ylabel(\"% of Catalogue that is Family Friendly\")\n",
    "# plt.bar(x_axis, y_axis, align=\"center\", color=['r', 'g', 'b', 'purple'])\n",
    "# tick_locations=[value for value in x_axis]\n",
    "# plt.xticks(tick_locations, percent_family.keys())\n",
    "plt.ylim(0,100)\n",
    "# plt.ylabel(\"% of Catalogue that is Family Friendly\")\n",
    "# plt.title(\"Streaming Services by % of Catalogue that is Family Friendly\")\n",
    "plt.savefig(\"Family_friendly_bar1.png\")\n",
    "# plt.show()"
   ]
  },
  {
   "cell_type": "code",
   "execution_count": 89,
   "id": "a19e7d56-128f-44a0-8034-6fdc9d9ae342",
   "metadata": {},
   "outputs": [
    {
     "data": {
      "image/png": "[encoded data removed]",
      "text/plain": [
       "<Figure size 640x480 with 1 Axes>"
      ]
     },
     "metadata": {},
     "output_type": "display_data"
    }
   ],
   "source": [
    "fig1, ax1=plt.subplots()\n",
    "bar_chart=ax1.bar(show_count.keys(), show_count.values(), color=['r', 'g', 'b', 'purple'], alpha=.75)\n",
    "ax1.bar_label(bar_chart, label_type='center')\n",
    "ax1.set_title(\"Streaming Services by Total Number of Family Friendly Shows\")\n",
    "ax1.set_ylabel(\"Number of Shows\")\n",
    "\n",
    "# x_axis=np.arange(len(show_count.keys()))\n",
    "# plt.bar(x_axis, show_count.values(), align=\"center\", color=['r', 'g', 'b', 'purple'])\n",
    "# tick_locations=[value for value in x_axis]\n",
    "# plt.xticks(tick_locations, show_count.keys())\n",
    "# plt.title(\"Streaming Services by Total Number of Family Friendly Shows\")\n",
    "plt.ylim(0,500)\n",
    "# plt.ylabel(\"Number of Shows\")\n",
    "plt.savefig(\"Family_friendly_bar2.png\")\n",
    "# plt.show()"
   ]
  },
  {
   "cell_type": "code",
   "execution_count": null,
   "id": "16ad7282-2ba6-4393-9dfb-a8ad6cd01786",
   "metadata": {},
   "outputs": [],
   "source": []
  },
  {
   "cell_type": "code",
   "execution_count": null,
   "id": "9d42a668-8364-412c-9931-f3d7986147a7",
   "metadata": {},
   "outputs": [],
   "source": []
  }
 ],
 "metadata": {
  "kernelspec": {
   "display_name": "Python 3 (ipykernel)",
   "language": "python",
   "name": "python3"
  },
  "language_info": {
   "codemirror_mode": {
    "name": "ipython",
    "version": 3
   },
   "file_extension": ".py",
   "mimetype": "text/x-python",
   "name": "python",
   "nbconvert_exporter": "python",
   "pygments_lexer": "ipython3",
   "version": "3.10.14"
  }
 },
 "nbformat": 4,
 "nbformat_minor": 5
}
