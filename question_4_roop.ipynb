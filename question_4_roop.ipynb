{
 "cells": [
  {
   "cell_type": "code",
   "execution_count": null,
   "id": "2fca34fe-3b47-445e-818b-22e2c4d82a9d",
   "metadata": {},
   "outputs": [],
   "source": [
    "# What are we watching tonight?\n",
    "# Which year(s) had the most highly rated shows?"
   ]
  },
  {
   "cell_type": "code",
   "execution_count": null,
   "id": "e331c4f4-5eab-43fe-9046-c597424a2c54",
   "metadata": {},
   "outputs": [],
   "source": [
    "# Imports\n",
    "import matplotlib.pyplot as plt\n",
    "import pandas as pd\n",
    "import numpy as np\n",
    "import requests\n",
    "from scipy.stats import linregress\n",
    "\n",
    "from config.py import api_key"
   ]
  },
  {
   "cell_type": "code",
   "execution_count": null,
   "id": "a092c54d-ee10-44d3-bc5a-2a263d664d5f",
   "metadata": {},
   "outputs": [],
   "source": [
    "url=f\"https://api.watchmode.com/v1/list-titles/?apiKey={api_key}\"\n",
    "\n",
    "# For loop through for your individual task\n",
    "\n",
    "query_url=f\"{url} +\""
   ]
  },
  {
   "cell_type": "code",
   "execution_count": null,
   "id": "f1794feb-1c98-450c-b06a-46c6ddc0ab9a",
   "metadata": {},
   "outputs": [],
   "source": [
    "# Pull data and convert to json\n",
    "data=requests.get(query_url)\n",
    "data_json=data.json()"
   ]
  },
  {
   "cell_type": "code",
   "execution_count": null,
   "id": "a49e476b-1a4c-45cf-b5d5-c2711d9c1023",
   "metadata": {},
   "outputs": [],
   "source": [
    "# Create dataframe\n",
    "data_df=pd.DataFrame(data_json)\n",
    "data_df.head()"
   ]
  },
  {
   "cell_type": "code",
   "execution_count": null,
   "id": "c0d03b02-8f66-4bc3-8315-8a9dc33db9ae",
   "metadata": {},
   "outputs": [],
   "source": [
    "# Clean dataframe\n",
    "clean_df=data_df.dropna()\n",
    "clean_df.head()"
   ]
  },
  {
   "cell_type": "code",
   "execution_count": null,
   "id": "45de858c-8d3a-4024-9467-bc55a42191ac",
   "metadata": {},
   "outputs": [],
   "source": []
  }
 ],
 "metadata": {
  "kernelspec": {
   "display_name": "Python 3 (ipykernel)",
   "language": "python",
   "name": "python3"
  },
  "language_info": {
   "codemirror_mode": {
    "name": "ipython",
    "version": 3
   },
   "file_extension": ".py",
   "mimetype": "text/x-python",
   "name": "python",
   "nbconvert_exporter": "python",
   "pygments_lexer": "ipython3",
   "version": "3.10.14"
  }
 },
 "nbformat": 4,
 "nbformat_minor": 5
}
